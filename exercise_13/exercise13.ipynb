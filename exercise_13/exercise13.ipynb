{
 "cells": [
  {
   "cell_type": "markdown",
   "metadata": {},
   "source": [
    "## Welcome to your notebook.\n"
   ]
  },
  {
   "cell_type": "markdown",
   "metadata": {},
   "source": [
    "#### Run this cell to connect to your GIS:"
   ]
  },
  {
   "cell_type": "code",
   "execution_count": null,
   "metadata": {},
   "outputs": [],
   "source": [
    "from IPython.display import HTML\n",
    "from arcgis.gis import GIS\n",
    "import urllib.request\n",
    "import arcgis\n",
    "import pandas as pd\n",
    "import getpass\n",
    "\n",
    "#connect to your GIS \n",
    "gis = GIS('home')\n",
    "\n",
    "#get Userdata interactively, \n",
    "username = input(\"Bitte geben Sie Ihren Benutzernamen ein: \")\n",
    "password = getpass.getpass(\"Bitte geben Sie Ihr Passwort ein: \")\n",
    "\n",
    "#connect to arcgis server\n",
    "my_gis = GIS('https://www.arcgis.com', username, password)\n",
    "\n",
    "#please wait a little bit after starting and submitting your userdata"
   ]
  },
  {
   "cell_type": "markdown",
   "metadata": {},
   "source": [
    "#### Now you are ready to start!"
   ]
  },
  {
   "cell_type": "code",
   "execution_count": null,
   "metadata": {},
   "outputs": [],
   "source": [
    "# fetch xml from api\n",
    "with urllib.request.urlopen(\"https://www.bcp-bonn.de/stellplatz/bcpext.xml\") as response:\n",
    "    xml = response.read()\n",
    "xml"
   ]
  },
  {
   "cell_type": "code",
   "execution_count": null,
   "metadata": {},
   "outputs": [],
   "source": [
    "import xmltodict"
   ]
  },
  {
   "cell_type": "code",
   "execution_count": null,
   "metadata": {},
   "outputs": [],
   "source": [
    "# transform the data from the api to a dictionary\n",
    "xmldict = xmltodict.parse(xml)\n",
    "xmldict"
   ]
  },
  {
   "cell_type": "code",
   "execution_count": null,
   "metadata": {},
   "outputs": [],
   "source": [
    "# extract the data\n",
    "parkhaus_list = data_dict.get('parkhaeuser', {}).get('parkhaus', [])\n",
    "parkhaus_list"
   ]
  },
  {
   "cell_type": "code",
   "execution_count": null,
   "metadata": {},
   "outputs": [],
   "source": [
    "# create a dataframe\n",
    "parkhaus_df = pd.DataFrame(parkhaus_list)\n",
    "# transform the type of the free and total columns from string to numeric\n",
    "parkhaus_df['gesamt'] = pd.to_numeric(parkhaus_df['gesamt'])\n",
    "parkhaus_df['frei'] = pd.to_numeric(parkhaus_df['frei'])\n",
    "parkhaus_df"
   ]
  },
  {
   "cell_type": "code",
   "execution_count": null,
   "metadata": {
    "scrolled": true
   },
   "outputs": [],
   "source": [
    "# insert occupancy into the dataframe\n",
    "parkhaus_df['occupancy_in_percent'] = 100 - parkhaus_df['frei'] / parkhaus_df['gesamt'] * 100\n",
    "parkhaus_df"
   ]
  },
  {
   "cell_type": "code",
   "execution_count": null,
   "metadata": {},
   "outputs": [],
   "source": [
    "# create a featureset\n",
    "fset = arcgis.features.FeatureSet.from_dataframe(parkhaus_df)\n",
    "fset"
   ]
  },
  {
   "cell_type": "code",
   "execution_count": null,
   "metadata": {},
   "outputs": [],
   "source": [
    "# connect tables and insert the key from your created table for the data\n",
    "live_table = gis.content.get('')\n",
    "live_table"
   ]
  },
  {
   "cell_type": "code",
   "execution_count": null,
   "metadata": {},
   "outputs": [],
   "source": [
    "# add data\n",
    "live_table.tables[0].edit_features(adds = fset)"
   ]
  }
 ],
 "metadata": {
  "esriNotebookRuntime": {
   "notebookRuntimeName": "ArcGIS Notebook Python 3 Standard",
   "notebookRuntimeVersion": "10.0"
  },
  "kernelspec": {
   "display_name": "ArcGISPro",
   "language": "Python",
   "name": "python3"
  },
  "language_info": {
   "file_extension": ".py",
   "name": "python",
   "version": "3"
  }
 },
 "nbformat": 4,
 "nbformat_minor": 2
}
