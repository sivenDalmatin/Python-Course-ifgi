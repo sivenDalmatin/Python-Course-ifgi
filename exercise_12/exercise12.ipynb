{
 "cells": [
  {
   "cell_type": "markdown",
   "metadata": {},
   "source": [
    "# Find hospitals closest to an incident"
   ]
  },
  {
   "cell_type": "markdown",
   "metadata": {},
   "source": [
    "This jupyter notebook constitutes the Exercise Sheet for the first lecture aput the arcgis API for Python.\n",
    "\n",
    "It is build as a 'gap text' challenge, there is a lot of text, code snippets and comments already added. To complete this exercise follow the instructions to build a fully working jupyter notebook. Add comments if necessary. \n",
    "\n",
    "You will use the functions of the network analyst module from the arcgis api for Python to build a solver the finds the route and the distance in kilometers towards the next hospital in Münster. \n",
    "\n",
    "There are two bonus challenges for 2 points each:\n",
    "1. Build a Interactive Input for the Incident Coordinates\n",
    "2. Label the result of the routing with the kilometer distance\n",
    "\n",
    "You will find the details for the bonus challenge in the explanations.\n",
    "\n",
    "There are 10 Points for the exercise and 4 bonus points available.\n",
    "Please remember to write code that is easy readable, well documented and actually working. \n",
    "\n",
    "The `network` module of the ArcGIS API for Python can be used to solve different types of network analysis operations. In this Exercise, we see how to find the hospital that is closest to an incident."
   ]
  },
  {
   "cell_type": "markdown",
   "metadata": {},
   "source": [
    "## Closest facility"
   ]
  },
  {
   "cell_type": "markdown",
   "metadata": {},
   "source": [
    "The closest facility solver provides functionality for finding out the closest locations to a particular input point. This solver would be useful in cases when you have an incident and need to find the closest facility or need to get information on the travel time and the distance to each of the facilities from an incident point for reporting purposes.\n",
    "\n",
    "![](http://desktop.arcgis.com/en/arcmap/latest/extensions/network-analyst/GUID-96C273DB-6A24-4D42-AADA-975A33B44F3D-web.png)\n",
    "\n",
    "When finding closest facilities, you can specify how many to find and whether the direction of travel is toward or away from them. The closest facility solver displays the best routes between incidents and facilities, reports their travel costs, and returns driving directions."
   ]
  },
  {
   "cell_type": "markdown",
   "metadata": {},
   "source": [
    "### Connect to your GIS\n",
    "As a first step, you would need to establish a connection to your organization which could be an ArcGIS Online organization or an ArcGIS Enterprise."
   ]
  },
  {
   "cell_type": "code",
   "execution_count": null,
   "metadata": {
    "tags": []
   },
   "outputs": [],
   "source": [
    "from IPython.display import HTML\n",
    "import pandas as pd\n",
    "from arcgis.gis import GIS\n",
    "from IPython.display import display\n",
    "\n",
    "#connect to your GIS \n",
    "# please dont enter your password in clear letters, make sure you use getpass\n",
    "#my_gis = GIS(url=, username = , password = )\n",
    "import getpass\n",
    "\n",
    "#get Userdata interactively, \n",
    "username = input(\"Bitte geben Sie Ihren Benutzernamen ein: \")\n",
    "password = getpass.getpass(\"Bitte geben Sie Ihr Passwort ein: \")\n",
    "\n",
    "#connect to arcgis server\n",
    "my_gis = GIS('https://www.arcgis.com', username, password)\n",
    "\n",
    "#please wait a little bit after starting and submitting your userdata"
   ]
  },
  {
   "cell_type": "markdown",
   "metadata": {},
   "source": [
    "### Create a Network Layer\n",
    "To perform any network analysis (such as finding the closest facility, the best route between multiple stops, or service area around a facility), you would need to create a `NetworkLayer` object. In this sample, since we are solving for closest facilities, we need to create a `ClosestFacilityLayer` which is a type of `NetworkLayer`.\n",
    "\n",
    "To create any `NetworkLayer` object, you would need to provide the URL to the appropriate network analysis service. Hence, in this sample, we provide a `ClosestFacility` URL to create a `ClosestFacilityLayer` object. \n",
    "\n",
    "Since all ArcGIS Online organizations already have access to those routing services, you can access this URL through the `GIS` object's `helperServices` property. If you have your own ArcGIS Server based map service with network analysis capability enabled, you would need to provide the URL for this service.\n",
    "\n",
    "Let us start by importing the `network` module"
   ]
  },
  {
   "cell_type": "code",
   "execution_count": null,
   "metadata": {
    "tags": []
   },
   "outputs": [],
   "source": [
    "import arcgis.network as network"
   ]
  },
  {
   "cell_type": "markdown",
   "metadata": {},
   "source": [
    "Access the analysis URL from the `GIS` object"
   ]
  },
  {
   "cell_type": "code",
   "execution_count": null,
   "metadata": {},
   "outputs": [],
   "source": [
    "analysis_url = my_gis.properties.helperServices.closestFacility.url"
   ]
  },
  {
   "cell_type": "markdown",
   "metadata": {},
   "source": [
    "Create a `ClosestFacilityLayer` object using this URL\n",
    "\n",
    "See the help for details in Syntax. https://developers.arcgis.com/python/api-reference/arcgis.network.toc.html#closestfacilitylayer"
   ]
  },
  {
   "cell_type": "code",
   "execution_count": null,
   "metadata": {},
   "outputs": [],
   "source": [
    "cf_layer = network.ClosestFacilityLayer(analysis_url, my_gis)"
   ]
  },
  {
   "cell_type": "markdown",
   "metadata": {},
   "source": [
    "### Create hospitals layer\n",
    "In this sample, we will be looking for the closest hospital (facility) to an incident location. Even though we are interested in finding out the closest one, it would still be helpful to get the information on the distance and travel time to all of them for reference purposes.\n",
    "\n",
    "In the code below, we need to geocode the hospitals' addresses as well as do the reverse geocode for the incident location which has been supplied in the latitude/longitude format.\n",
    "\n",
    "To perform the geocode operations, we import the `geocoding` module of the ArcGIS API."
   ]
  },
  {
   "cell_type": "code",
   "execution_count": null,
   "metadata": {
    "tags": []
   },
   "outputs": [],
   "source": [
    "from arcgis import geocoding"
   ]
  },
  {
   "cell_type": "markdown",
   "metadata": {},
   "source": [
    "In this sample, we geocode addresses of hospitals to create the facility layer. In your workflows, this could any feature layer. Create a list of hospitals in Münster, Germany"
   ]
  },
  {
   "cell_type": "code",
   "execution_count": null,
   "metadata": {
    "scrolled": true
   },
   "outputs": [],
   "source": [
    "hospitals_addresses = ['Dorbaumstraße 300, 48157 Münster, Germany',\n",
    "                       'Alexianerweg 9, 48163 Münster, Germany',\n",
    "                       'Westfalenstr. 109, 48165 Münster, Germany',\n",
    "                       'Loerstraße 23, 48143 Münster, Germany',\n",
    "                       'Hohenzollernring 70, 48145 Münster, Germany',\n",
    "                       'Wichernstraße 8, 48147 Münster, Germany',\n",
    "                       'Domagkstr. 5, 48149 Münster, Germany']"
   ]
  },
  {
   "cell_type": "markdown",
   "metadata": {},
   "source": [
    "Loop through each address and geocode it. The geocode operation returns a list of matches for each address. We pick the first result and extract the coordinates from it and construct a `Feature` object out of it. Then we combine all the `Feature`s representing the hospitals into a `FeatureSet` object.\n",
    "\n",
    "Geocoding syntax: https://developers.arcgis.com/python/api-reference/arcgis.geocoding.html#geocode\n",
    "\n",
    "Feature Syntax: https://developers.arcgis.com/python/api-reference/arcgis.features.toc.html#feature\n",
    "\n",
    "Feature Set Syntax: https://developers.arcgis.com/python/api-reference/arcgis.features.toc.html#featureset\n",
    "\n",
    "Hint: Check the structure from the return element of the geocoder to properly construct your feature. Use a loop to run through the list of adresses, add each result feature to a python list and use this python list to build your feature set. While building the feature set, use this as the value for the spatial_reference parameter `{'wkid' : 4326, 'latestWkid': 4326}`"
   ]
  },
  {
   "cell_type": "code",
   "execution_count": null,
   "metadata": {},
   "outputs": [],
   "source": [
    "from arcgis.features import Feature, FeatureSet"
   ]
  },
  {
   "cell_type": "code",
   "execution_count": null,
   "metadata": {
    "tags": []
   },
   "outputs": [],
   "source": [
    "hosp_feat_list = []\n",
    "\n",
    "for address in hospitals_addresses:\n",
    "    # geocoding\n",
    "    geocode_result = geocoding.geocode(address)[0]\n",
    "    # create a feature from geocoding result\n",
    "    feature = Feature(geometry=geocode_result['location'], attributes={\"Address\": address})\n",
    "    #append feature to list\n",
    "    hosp_feat_list.append(feature)"
   ]
  },
  {
   "cell_type": "markdown",
   "metadata": {},
   "source": [
    "Construct a `FeatureSet` using each hospital `Feature`."
   ]
  },
  {
   "cell_type": "code",
   "execution_count": null,
   "metadata": {},
   "outputs": [],
   "source": [
    "# create a featureset from the feature list\n",
    "hospitals_fset = FeatureSet(features=hosp_feat_list, spatial_reference={'wkid': 4326, 'latestWkid': 4326})"
   ]
  },
  {
   "cell_type": "markdown",
   "metadata": {},
   "source": [
    "Lets draw our hospitals on a map. To do so, intanciate a gis.map object, focused in Münster. Set the basemap to `arcgis-light-gray`\n",
    "\n",
    "Details about the map widget can be found here https://developers.arcgis.com/python/api-reference/arcgis.gis.toc.html#arcgis.gis.GIS.map\n",
    "use the map.draw() function to add the hospitals to the map. You can use the following value for the 'symbol' parameter: `{\"type\": \"esriSMS\",\"style\": \"esriSMSSquare\",\"color\": [76,115,0,255],\"size\": 8,}`"
   ]
  },
  {
   "cell_type": "code",
   "execution_count": null,
   "metadata": {},
   "outputs": [],
   "source": [
    "# instanciate the map\n",
    "map1 = my_gis.map(\"Münster, Germany\", zoomlevel=12)\n",
    "map1.basemap = \"arcgis-light-gray\""
   ]
  },
  {
   "cell_type": "code",
   "execution_count": null,
   "metadata": {},
   "outputs": [],
   "source": [
    "# draw the hospitals on the map\n",
    "map1.draw(hospitals_fset, symbol={\"type\": \"esriSMS\",\"style\": \"esriSMSSquare\",\"color\": [76,115,0,255],\"size\": 8,})\n",
    "map1"
   ]
  },
  {
   "cell_type": "markdown",
   "metadata": {},
   "source": [
    "### Create incidents layer\n",
    "Lets use the geocoding.reverse_geocoding function to build an Feature set from the provided incident coordinates. Feel free to use your own coordinates or use the one provided\n",
    "\n",
    "The syntax for the reverse geocoding is here: https://developers.arcgis.com/python/api-reference/arcgis.geocoding.html#reverse-geocode\n",
    "\n",
    "1. Reverse Geocode the coordinates\n",
    "2. build a arcgis.Feature from the result object, using the 'location' from the response object as a parameter for the `geometry` parameter and the 'adress' from the response object for the `attributes` parameter of the Feature.\n",
    "3. Build a Feature set from the one Feature, similar to the feature set for the hospitals. You can use the same spatial_reference parameter"
   ]
  },
  {
   "cell_type": "markdown",
   "metadata": {},
   "source": [
    "## Bonus Challenge: Build an interactive Input for the coordinates\n",
    "for 2 extra points: \n",
    "Open an input form and verify that the input string has the format of XX.XXXX, YY.YYYY\n",
    "\n",
    "Give Feedback to the user if the format is correct or not."
   ]
  },
  {
   "cell_type": "code",
   "execution_count": null,
   "metadata": {
    "tags": []
   },
   "outputs": [],
   "source": [
    "import re\n",
    "\n",
    "#check if pattern is correct\n",
    "def validate_coordinate_format(coord_str):\n",
    "    pattern = r'^\\d{1,2}\\.\\d{4},\\s*\\d{1,2}\\.\\d{4}$'\n",
    "    return re.match(pattern, coord_str.strip())\n",
    "\n",
    "#check if coordinates are valid from user\n",
    "def get_valid_coordinates():\n",
    "    while True:\n",
    "        coord_input = input(\"Enter coordinates in the format XX.XXXX,YY.YYYY: \")\n",
    "        if validate_coordinate_format(coord_input):\n",
    "            print(\"Valid coordinate format.\")\n",
    "            return coord_input\n",
    "        else:\n",
    "            print(\"Invalid coordinate format. Please enter again.\")\n"
   ]
  },
  {
   "cell_type": "code",
   "execution_count": null,
   "metadata": {
    "tags": []
   },
   "outputs": [],
   "source": [
    "# reverse geocode & build feature\n",
    "#use function to get coordinates from user\n",
    "incident_coords = get_valid_coordinates()\n",
    "#convert coordinates from string to list\n",
    "incident_coords = list(map(float, incident_coords.split(',')))\n",
    "#geocode\n",
    "incident_feat_list = []\n",
    "\n",
    "# geocoding\n",
    "reverse_geocode_result = geocoding.reverse_geocode(location={'x': incident_coords[0], 'y': incident_coords[1]}, distance = 20, feature_types = \"StreetName\")\n",
    "# create a feature from geocoding result\n",
    "feature = Feature(geometry=reverse_geocode_result['location'], attributes={'address': reverse_geocode_result['address']})\n",
    "#append feature to list\n",
    "incident_feat_list.append(feature)"
   ]
  },
  {
   "cell_type": "code",
   "execution_count": null,
   "metadata": {},
   "outputs": [],
   "source": [
    "# build the incident feature set\n",
    "incident_fset = FeatureSet(features=incident_feat_list, spatial_reference={'wkid': 4326, 'latestWkid': 4326})"
   ]
  },
  {
   "cell_type": "code",
   "execution_count": null,
   "metadata": {},
   "outputs": [],
   "source": [
    "# check for the result (this cell does not need to be changed)\n",
    "incident_fset.features"
   ]
  },
  {
   "cell_type": "markdown",
   "metadata": {},
   "source": [
    "Draw the incident Feature Set on the map, using this value for the 'symbol' parameter `{\"type\": \"esriSMS\",\"style\": \"esriSMSCircle\",\"color\": [255,0,0,255],\"size\": 8}`"
   ]
  },
  {
   "cell_type": "code",
   "execution_count": null,
   "metadata": {},
   "outputs": [],
   "source": [
    "# draw the incidents on the existing map widget\n",
    "map1.draw(incident_fset, symbol={\"type\": \"esriSMS\",\"style\": \"esriSMSCircle\",\"color\": [255,0,0,255],\"size\": 8})"
   ]
  },
  {
   "cell_type": "markdown",
   "metadata": {},
   "source": [
    "## Solve for closest hospital\n",
    "Now, you can solve the closest facility layer you created in the beginning. Syntax: https://developers.arcgis.com/python/api-reference/arcgis.network.toc.html#closestfacilitylayer\n",
    "\n",
    "Use your incidents feature set for the `incidents` parameter, your hospital feature set for the `facilities` parameter.\n",
    "\n",
    "Set the `default_target_facility_count` parameter to 1, since we only want to see the routing to the closest hospital\n",
    "\n",
    "Set the remaining attributes in a way that the impedance is set to travel time and the travel distance is added in kilometers\n"
   ]
  },
  {
   "cell_type": "code",
   "execution_count": null,
   "metadata": {},
   "outputs": [],
   "source": [
    "# Define parameters for the closest facility analysis\n",
    "result = cf_layer.solve_closest_facility(facilities=hospitals_fset, incidents=incident_fset,default_target_facility_count=1, impedance_attribute_name='TravelTime', accumulate_attribute_names=['Kilometers'])"
   ]
  },
  {
   "cell_type": "markdown",
   "metadata": {},
   "source": [
    "Let us inspect the result dictionary. You will use the content of the `routes` dictionary to create the line to be plotted on the map. you can keep the following 3 Code Cells as is, without doing anything"
   ]
  },
  {
   "cell_type": "code",
   "execution_count": null,
   "metadata": {},
   "outputs": [],
   "source": [
    "result.keys()"
   ]
  },
  {
   "cell_type": "markdown",
   "metadata": {},
   "source": [
    "Let us use the `routes` dictionary to construct line features out of the routes to display on the map"
   ]
  },
  {
   "cell_type": "code",
   "execution_count": null,
   "metadata": {},
   "outputs": [],
   "source": [
    "result['routes'].keys()"
   ]
  },
  {
   "cell_type": "code",
   "execution_count": null,
   "metadata": {},
   "outputs": [],
   "source": [
    "result['routes']['features'][0].keys()"
   ]
  },
  {
   "cell_type": "markdown",
   "metadata": {},
   "source": [
    "From here, you need to continue to modify the code\n",
    "\n",
    "Construct line features out of the routes that are returned. \n",
    "\n",
    "The process is the same as before. \n",
    "\n",
    "Build a `Feature` for each route (there yould only be one)\n",
    "Add this to a result list\n",
    "Build a `FeatureSet` from the list"
   ]
  },
  {
   "cell_type": "code",
   "execution_count": null,
   "metadata": {},
   "outputs": [],
   "source": [
    "# build the list with features\n",
    "line_feat_list = []\n",
    "for line_dict in result['routes']['features']:\n",
    "    line_feature = Feature(geometry=line_dict['geometry'], attributes=line_dict['attributes'])\n",
    "    line_feat_list.append(line_feature)\n"
   ]
  },
  {
   "cell_type": "code",
   "execution_count": null,
   "metadata": {},
   "outputs": [],
   "source": [
    "# create a feature set\n",
    "routes_fset = FeatureSet(features=line_feat_list, spatial_reference={'wkid': 4326, 'latestWkid': 4326})"
   ]
  },
  {
   "cell_type": "markdown",
   "metadata": {},
   "source": [
    "Add the routes back to the map using the `draw` method of the map widget once again. Make sure to scroll back up to verify the result\n",
    "\n",
    "You can use this value for the symbol parameter `{'type': 'esriSLS', 'style': 'esriSLSSolid','color': [0,0,255,100], 'width': 6}`"
   ]
  },
  {
   "cell_type": "code",
   "execution_count": null,
   "metadata": {},
   "outputs": [],
   "source": [
    "\n",
    "# draw the result to the map\n",
    "map1.draw(routes_fset, symbol={'type': 'esriSLS', 'style': 'esriSLSSolid','color': [0,0,255,100], 'width': 6})"
   ]
  },
  {
   "cell_type": "markdown",
   "metadata": {},
   "source": [
    "## Bonus Challenge \n",
    "for 2 Extra Points: Label the drawn Line with the distance value from the result object"
   ]
  },
  {
   "cell_type": "code",
   "execution_count": null,
   "metadata": {},
   "outputs": [],
   "source": [
    "for route_feature in routes_fset:\n",
    "    #get distance\n",
    "    distance = f\"{route_feature.attributes['Total_Kilometers']:.2f} km\"\n",
    "    \n",
    "    #get middlepoint of the route\n",
    "    path = route_feature.geometry[\"paths\"][0]\n",
    "    midpoint_index = len(path) // 2\n",
    "    midpoint = path[midpoint_index]\n",
    "    \n",
    "    #create feature and feature set\n",
    "    line_feat_list2 = []\n",
    "    feature = Feature(geometry={\"x\": midpoint[0], \"y\": midpoint[1]})\n",
    "    line_feat_list2.append(feature)\n",
    "    \n",
    "    midpoint_fset = FeatureSet(features=line_feat_list2, spatial_reference={'wkid': 4326, 'latestWkid': 4326})\n",
    "    \n",
    "    #style for the label\n",
    "    text_symbol = {\"type\": \"esriTS\", \"color\": [0, 0, 0, 255], \"font\": {\"size\": 12, \"family\": \"Arial\"}, \"text\": distance}\n",
    "    map1.draw(midpoint_fset, symbol=text_symbol)"
   ]
  }
 ],
 "metadata": {
  "anaconda-cloud": {},
  "esriNotebookRuntime": {
   "notebookRuntimeName": "ArcGIS Notebook Python 3 Standard",
   "notebookRuntimeVersion": "5.0"
  },
  "kernelspec": {
   "display_name": "ArcGISPro",
   "language": "Python",
   "name": "python3"
  },
  "language_info": {
   "file_extension": ".py",
   "name": "python",
   "version": "3.9.18"
  },
  "toc": {
   "base_numbering": 1,
   "nav_menu": {},
   "number_sections": true,
   "sideBar": true,
   "skip_h1_title": false,
   "title_cell": "Table of Contents",
   "title_sidebar": "Contents",
   "toc_cell": true,
   "toc_position": {},
   "toc_section_display": true,
   "toc_window_display": true
  }
 },
 "nbformat": 4,
 "nbformat_minor": 4
}
